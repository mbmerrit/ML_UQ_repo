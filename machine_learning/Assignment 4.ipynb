{
 "cells": [
  {
   "cell_type": "code",
   "execution_count": 12,
   "metadata": {},
   "outputs": [],
   "source": [
    "import numpy as np\n",
    "import tensorflow as tf\n",
    "from tensorflow import keras\n",
    "from tensorflow.keras import layers\n",
    "from tensorflow.keras.datasets import mnist\n",
    "import matplotlib.pyplot as plt\n",
    "import os\n",
    "\n",
    "os.environ['KMP_DUPLICATE_LIB_OK']='True'"
   ]
  },
  {
   "cell_type": "markdown",
   "metadata": {},
   "source": [
    "## We start by training a feed forward neural net on the MNIST data, for a baseline "
   ]
  },
  {
   "cell_type": "code",
   "execution_count": null,
   "metadata": {},
   "outputs": [],
   "source": [
    "# Now we download the MNIST data\n",
    "(x_train, y_train), (x_test, y_test) = mnist.load_data()"
   ]
  },
  {
   "cell_type": "code",
   "execution_count": null,
   "metadata": {},
   "outputs": [],
   "source": [
    "plt.imshow(x_train[0], cmap=plt.cm.binary)\n",
    "x_train = tf.keras.utils.normalize(x_train, axis=1)\n",
    "x_test = tf.keras.utils.normalize(x_test, axis=1)"
   ]
  },
  {
   "cell_type": "code",
   "execution_count": null,
   "metadata": {},
   "outputs": [],
   "source": [
    "# Next we define a feedforward neural net model\n",
    "model = tf.keras.models.Sequential()\n",
    "model.add(tf.keras.layers.Flatten()) # this is the input layer\n",
    "# Now for our hidden layers\n",
    "model.add(tf.keras.layers.Dense(128, activation=tf.nn.relu)) # 128 neurons, with ReLU activation\n",
    "model.add(tf.keras.layers.Dense(128, activation=tf.nn.relu)) # 128 neurons, with ReLU activation\n",
    "model.add(tf.keras.layers.Dense(10, activation=tf.nn.softmax)) # final layer with 10 neurons, with softmax activation\n",
    "\n",
    "model.compile(optimizer='adam', loss='sparse_categorical_crossentropy',metrics=['accuracy'])\n",
    "\n",
    "model.fit(x_train, y_train, epochs=3)"
   ]
  },
  {
   "cell_type": "code",
   "execution_count": null,
   "metadata": {},
   "outputs": [],
   "source": [
    "val_loss, val_acc = model.evaluate(x_test, y_test, verbose=0);\n",
    "predictions = model.predict([x_test]) #takes a list\n",
    "\n",
    "print(predictions) # these are one_hot arrays of probability distributions, use numpy"
   ]
  },
  {
   "cell_type": "code",
   "execution_count": null,
   "metadata": {},
   "outputs": [],
   "source": [
    "# Now we check if it has worked on just the first image\n",
    "print(np.argmax(predictions[0]))\n",
    "plt.imshow(x_test[0])"
   ]
  },
  {
   "cell_type": "markdown",
   "metadata": {},
   "source": [
    "## Now we modify the CNN code to work with Keras\n",
    "\n",
    "We begin by giving the data an 80/20 split between training and testing. \n",
    "\n",
    "This neural net has 2 convolutional layers with 5 by 5 filters in each and all activations are ReLU. We also include a softmax output layer with a fully connected layer at the end.\n",
    "\n",
    "We optimize using the Adam optimizer and dropout for the first dense layer. "
   ]
  },
  {
   "cell_type": "code",
   "execution_count": null,
   "metadata": {},
   "outputs": [],
   "source": [
    "# load train and test dataset\n",
    "def load_dataset():\n",
    "    # load dataset\n",
    "    (trainX, trainY), (testX, testY) = mnist.load_data()\n",
    "    # reshape dataset to have a single channel\n",
    "    trainX = trainX.reshape((trainX.shape[0], 28, 28, 1))\n",
    "    testX = testX.reshape((testX.shape[0], 28, 28, 1))\n",
    "    # one hot encode target values\n",
    "    trainY = keras.utils.to_categorical(trainY)\n",
    "    testY = keras.utils.to_categorical(testY)\n",
    "    return trainX, trainY, testX, testY\n",
    " \n",
    "# define cnn model\n",
    "def define_model():\n",
    "    model = tf.keras.models.Sequential()\n",
    "    model.add(layers.Conv2D(32, (5, 5), input_shape=(28, 28, 1)) )\n",
    "    model.add(layers.Activation('relu'))\n",
    "    model.add(layers.MaxPooling2D((2, 2)))\n",
    "    model.add(layers.Conv2D(64, (5, 5)))\n",
    "    model.add(layers.Activation('relu'))\n",
    "    model.add(layers.MaxPooling2D((2, 2)))\n",
    "    model.add(layers.Flatten())\n",
    "    model.add(layers.Dropout(.2, input_shape=(1024,)) )\n",
    "    model.add(layers.Activation('relu'))\n",
    "    \n",
    "    model.add(layers.Dense(10))\n",
    "    model.add(layers.Activation('softmax'))\n",
    "    # compile model\n",
    "    model.compile(optimizer='adam', loss='categorical_crossentropy',metrics=['accuracy'])\n",
    "    return model"
   ]
  },
  {
   "cell_type": "code",
   "execution_count": null,
   "metadata": {},
   "outputs": [],
   "source": [
    "trainX, trainY, testX, testY = load_dataset()\n",
    "CNN_model = define_model()\n",
    "CNN_model.summary()\n",
    "\n",
    "history = CNN_model.fit(trainX, trainY, epochs=8, batch_size=32, validation_split=0.2, verbose=1)"
   ]
  },
  {
   "cell_type": "code",
   "execution_count": null,
   "metadata": {},
   "outputs": [],
   "source": [
    "history\n",
    "#CNN_model.save('final_model.h5')\n",
    "#CNN_model = load_model('final_model.h5')\n",
    "\n",
    "# evaluate model on test dataset\n",
    "_, acc = CNN_model.evaluate(testX, testY, verbose=0)\n",
    "print('Accuracy percentage on testing data: ', (acc * 100.0))"
   ]
  },
  {
   "cell_type": "code",
   "execution_count": null,
   "metadata": {},
   "outputs": [],
   "source": [
    "plt.plot(history.history['accuracy'], label='testing accuracy')\n",
    "plt.plot(history.history['val_accuracy'], label = 'validation accuracy')\n",
    "plt.xlabel('Epoch')\n",
    "plt.ylabel('Accuracy')\n",
    "plt.legend(loc='lower right')\n",
    "#plt.savefig('MNIST_CNN.pdf')"
   ]
  },
  {
   "cell_type": "markdown",
   "metadata": {},
   "source": [
    "## We modify the CNN to use same padding and batch normalization"
   ]
  },
  {
   "cell_type": "code",
   "execution_count": null,
   "metadata": {},
   "outputs": [],
   "source": [
    "CNN2 = tf.keras.models.Sequential()\n",
    "CNN2.add(layers.Conv2D(32, (3, 3), padding='same', input_shape=(28, 28, 1)) )\n",
    "CNN2.add(layers.Activation('relu'))\n",
    "CNN2.add(layers.BatchNormalization(  ) )\n",
    "CNN2.add(layers.MaxPooling2D((2, 2)))\n",
    "CNN2.add(layers.Conv2D(32, (3, 3), padding='same'))\n",
    "CNN2.add(layers.Activation('relu'))\n",
    "CNN2.add(layers.BatchNormalization(  ) )\n",
    "CNN2.add(layers.MaxPooling2D((2, 2)))\n",
    "CNN2.add(layers.Flatten())\n",
    "CNN2.add(layers.Dropout(.2, input_shape=(1024,)) )\n",
    "CNN2.add(layers.Activation('relu'))\n",
    "    \n",
    "CNN2.add(layers.Dense(10))\n",
    "CNN2.add(layers.Activation('softmax'))\n",
    "# compile model\n",
    "CNN2.compile(optimizer='adam', loss='categorical_crossentropy',metrics=['accuracy'])"
   ]
  },
  {
   "cell_type": "code",
   "execution_count": null,
   "metadata": {},
   "outputs": [],
   "source": [
    "CNN2.summary()\n",
    "\n",
    "history = CNN2.fit(trainX, trainY, epochs=8, batch_size=32, validation_split=0.2, verbose=1)"
   ]
  },
  {
   "cell_type": "code",
   "execution_count": null,
   "metadata": {},
   "outputs": [],
   "source": [
    "_, acc = CNN2.evaluate(testX, testY, verbose=0)\n",
    "print('Accuracy percentage on testing data: ', (acc * 100.0))\n",
    "\n",
    "plt.plot(history.history['accuracy'], label='accuracy')\n",
    "plt.plot(history.history['val_accuracy'], label = 'validation accuracy')\n",
    "plt.xlabel('Epoch')\n",
    "plt.ylabel('Accuracy')\n",
    "plt.legend(loc='lower right')\n",
    "#plt.savefig('MNIST_CNN2.pdf')"
   ]
  },
  {
   "cell_type": "markdown",
   "metadata": {},
   "source": [
    "## LSTM with the IMDB dataset"
   ]
  },
  {
   "cell_type": "code",
   "execution_count": 13,
   "metadata": {},
   "outputs": [],
   "source": [
    "from tensorflow.keras.datasets import imdb"
   ]
  },
  {
   "cell_type": "code",
   "execution_count": 14,
   "metadata": {},
   "outputs": [],
   "source": [
    "(x_train_imdb, y_train_imdb), (x_test_imdb, y_test_imdb) = imdb.load_data(path=\"imdb.npz\",num_words=5000)"
   ]
  },
  {
   "cell_type": "code",
   "execution_count": 15,
   "metadata": {},
   "outputs": [],
   "source": [
    "x_train_imdb = keras.preprocessing.sequence.pad_sequences(x_train_imdb, maxlen=500)\n",
    "x_test_imdb = keras.preprocessing.sequence.pad_sequences(x_test_imdb, maxlen=500)"
   ]
  },
  {
   "cell_type": "code",
   "execution_count": 16,
   "metadata": {},
   "outputs": [
    {
     "name": "stdout",
     "output_type": "stream",
     "text": [
      "Model: \"sequential_2\"\n",
      "_________________________________________________________________\n",
      "Layer (type)                 Output Shape              Param #   \n",
      "=================================================================\n",
      "embedding_2 (Embedding)      (None, None, 32)          160000    \n",
      "_________________________________________________________________\n",
      "lstm_2 (LSTM)                (None, None, 32)          8320      \n",
      "_________________________________________________________________\n",
      "dense_2 (Dense)              (None, None, 1)           33        \n",
      "_________________________________________________________________\n",
      "activation_2 (Activation)    (None, None, 1)           0         \n",
      "=================================================================\n",
      "Total params: 168,353\n",
      "Trainable params: 168,353\n",
      "Non-trainable params: 0\n",
      "_________________________________________________________________\n"
     ]
    }
   ],
   "source": [
    "lstm_model = keras.models.Sequential()\n",
    "lstm_model.add(layers.Embedding(5000, 32))\n",
    "lstm_model.add(layers.LSTM(32, return_sequences=True))\n",
    "lstm_model.add(layers.Dense(1))\n",
    "lstm_model.add(layers.Activation('sigmoid'))\n",
    "\n",
    "lstm_model.compile(loss='binary_crossentropy',optimizer='adam',metrics=['accuracy'])\n",
    "\n",
    "lstm_model.summary()"
   ]
  },
  {
   "cell_type": "code",
   "execution_count": null,
   "metadata": {},
   "outputs": [
    {
     "name": "stdout",
     "output_type": "stream",
     "text": [
      "Train on 25000 samples\n",
      "Epoch 1/10\n",
      "25000/25000 [==============================] - 293s 12ms/sample - loss: 0.6308 - accuracy: 0.5907\n",
      "Epoch 2/10\n",
      "25000/25000 [==============================] - 293s 12ms/sample - loss: 0.5672 - accuracy: 0.6383\n",
      "Epoch 3/10\n",
      "25000/25000 [==============================] - 260s 10ms/sample - loss: 0.5596 - accuracy: 0.6417\n",
      "Epoch 4/10\n",
      "25000/25000 [==============================] - 248s 10ms/sample - loss: 0.5424 - accuracy: 0.6553\n",
      "Epoch 5/10\n",
      "25000/25000 [==============================] - 272s 11ms/sample - loss: 0.5408 - accuracy: 0.6528\n",
      "Epoch 6/10\n",
      "25000/25000 [==============================] - 249s 10ms/sample - loss: 0.5291 - accuracy: 0.6604\n",
      "Epoch 7/10\n",
      " 1900/25000 [=>............................] - ETA: 4:15 - loss: 0.5168 - accuracy: 0.6710"
     ]
    }
   ],
   "source": [
    "lstm_model.fit(x_train_imdb, y_train_imdb, batch_size=100, epochs=10)#, validation_data=(x_test_imdb, y_test_imdb))\n",
    "score, acc = lstm_model.evaluate(x_test_imdb, y_test_imdb, batch_size=32)\n",
    "print('Test score:', score)\n",
    "print('Test accuracy:', acc)"
   ]
  },
  {
   "cell_type": "markdown",
   "metadata": {},
   "source": [
    "# Here we build our table to collect the results of the LSTM validation error\n",
    "\n",
    "\n",
    "| Hidden states     |  Embed length: 8  |   16     | 32      |  \n",
    "| :---        |    :----:  |         :---: | :---:        | \n",
    "| 16      | .6480       | .6549   | .6595      | \n",
    "| 32   | .6526        | .6610      | .6604   | \n",
    "| 64   | .6438        | .6565      | .6585   | \n",
    "| 128   | .6495        | .6537      | .6566   | \n",
    "| Table of  out-of-sample accuracies |"
   ]
  },
  {
   "cell_type": "code",
   "execution_count": null,
   "metadata": {},
   "outputs": [],
   "source": []
  }
 ],
 "metadata": {
  "kernelspec": {
   "display_name": "Python 3",
   "language": "python",
   "name": "python3"
  },
  "language_info": {
   "codemirror_mode": {
    "name": "ipython",
    "version": 3
   },
   "file_extension": ".py",
   "mimetype": "text/x-python",
   "name": "python",
   "nbconvert_exporter": "python",
   "pygments_lexer": "ipython3",
   "version": "3.7.6"
  }
 },
 "nbformat": 4,
 "nbformat_minor": 4
}
